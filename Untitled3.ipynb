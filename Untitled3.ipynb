{
  "nbformat": 4,
  "nbformat_minor": 0,
  "metadata": {
    "colab": {
      "provenance": [],
      "authorship_tag": "ABX9TyOVbCzWcYez+FxcqTQ+Ie/p",
      "include_colab_link": true
    },
    "kernelspec": {
      "name": "python3",
      "display_name": "Python 3"
    },
    "language_info": {
      "name": "python"
    }
  },
  "cells": [
    {
      "cell_type": "markdown",
      "metadata": {
        "id": "view-in-github",
        "colab_type": "text"
      },
      "source": [
        "<a href=\"https://colab.research.google.com/github/OksanaKamenskich/55/blob/main/Untitled3.ipynb\" target=\"_parent\"><img src=\"https://colab.research.google.com/assets/colab-badge.svg\" alt=\"Open In Colab\"/></a>"
      ]
    },
    {
      "cell_type": "code",
      "execution_count": 13,
      "metadata": {
        "colab": {
          "base_uri": "https://localhost:8080/"
        },
        "id": "bYfEOoPhiH_M",
        "outputId": "db406390-6611-45f3-8d88-2935cf31b9f8"
      },
      "outputs": [
        {
          "output_type": "stream",
          "name": "stdout",
          "text": [
            "Столбцы, содержащие только кратные 5 или 7 элементы: [1]\n",
            "Столбцы, содержащие только кратные 5 или 7 элементы: [0, 1, 2]\n"
          ]
        }
      ],
      "source": [
        "def is_column_valid(column):\n",
        "    for element in column:\n",
        "        if element % 5 != 0 and element % 7 != 0:\n",
        "            return False\n",
        "    return True\n",
        "\n",
        "def find_columns(array):\n",
        "    valid_columns = []\n",
        "    for j in range(len(array[0])):\n",
        "        column = [array[i][j] for i in range(len(array))]\n",
        "        if is_column_valid(column):\n",
        "            valid_columns.append(j)\n",
        "    if len(valid_columns) > 0:\n",
        "        print(\"Столбцы, содержащие только кратные 5 или 7 элементы:\", valid_columns)\n",
        "    else:\n",
        "        print(\"В масПППППППППППППППементы.\")\n",
        "\n",
        "array1 = [\n",
        "    [1, 5, 3, 10],\n",
        "    [2, 14, 21, 35],\n",
        "    [3, 15, 6, 12],\n",
        "    [4, 20, 28, 7],\n",
        "]\n",
        "find_columns(array1)\n",
        "\n",
        "array2 = [\n",
        "    [5, 10, 15],\n",
        "    [7, 14, 21],\n",
        "    [35, 70, 49],\n",
        "]\n",
        "find_columns(array2)"
      ]
    }
  ]
}